{
 "cells": [
  {
   "cell_type": "code",
   "execution_count": 1,
   "metadata": {},
   "outputs": [],
   "source": [
    "# Required libraries\n",
    "import pandas as pd\n",
    "import numpy as np\n",
    "import os\n",
    "import glob\n",
    "import warnings\n",
    "warnings.filterwarnings('ignore')"
   ]
  },
  {
   "cell_type": "code",
   "execution_count": 2,
   "metadata": {},
   "outputs": [],
   "source": [
    "path_pathways = '../data/pathways/'\n",
    "path_weights = '../data/weights/'"
   ]
  },
  {
   "cell_type": "markdown",
   "metadata": {},
   "source": [
    "## GENES from hiPathia PATHWAYS"
   ]
  },
  {
   "cell_type": "code",
   "execution_count": 3,
   "metadata": {},
   "outputs": [
    {
     "name": "stdout",
     "output_type": "stream",
     "text": [
      "signaling pathway,  (3737, 2)\n"
     ]
    }
   ],
   "source": [
    "df_hipathia = pd.read_csv(os.path.join(path_pathways + 'hipathia_entrez_and_symbol.csv'))\n",
    "df_hipathia['symbol'] = [item.lower() for item in list(df_hipathia['symbol'])]\n",
    "print('signaling pathway, ',df_hipathia.shape)"
   ]
  },
  {
   "cell_type": "markdown",
   "metadata": {},
   "source": [
    "## GENES from KEGG (geneSCF) PATHWAYS"
   ]
  },
  {
   "cell_type": "code",
   "execution_count": 4,
   "metadata": {},
   "outputs": [
    {
     "name": "stdout",
     "output_type": "stream",
     "text": [
      "Metabolic pathway,  (7893, 2)\n"
     ]
    }
   ],
   "source": [
    "df_scf = pd.read_csv(os.path.join(path_pathways + 'kegg_entrez_and_symbol.csv'))\n",
    "df_scf['symbol'] = [item.lower() for item in list(df_scf['symbol'])]\n",
    "print('Metabolic pathway, ', df_scf.shape)"
   ]
  },
  {
   "cell_type": "code",
   "execution_count": 5,
   "metadata": {},
   "outputs": [
    {
     "name": "stdout",
     "output_type": "stream",
     "text": [
      "hipathia - checking na value ( 0(zero) means OK),  0\n",
      "kegg - checking na value ( 0(zero) means OK),  0\n"
     ]
    }
   ],
   "source": [
    "## Checking the na values (to control is there any unnamed symbol name or not. This control helps to prevent any incorrect duplication)\n",
    "print('hipathia - checking na value ( 0(zero) means OK), ', len(df_hipathia.loc[df_hipathia['symbol'].isna()]))\n",
    "print('kegg - checking na value ( 0(zero) means OK), ', len(df_scf.loc[df_scf['symbol'].isna()]))"
   ]
  },
  {
   "cell_type": "code",
   "execution_count": 6,
   "metadata": {},
   "outputs": [
    {
     "name": "stdout",
     "output_type": "stream",
     "text": [
      "Union        , 7914\n",
      "Intersection , 3716\n",
      "hipathia diff, 21\n",
      "scf diff     , 4177\n"
     ]
    }
   ],
   "source": [
    "print('Union        ,', len(set(df_hipathia['symbol']).union(set(df_scf['symbol']))))\n",
    "print('Intersection ,', len(set(df_hipathia['symbol']).intersection(set(df_scf['symbol']))))\n",
    "print('hipathia diff,', len(set(df_hipathia['symbol']).difference(set(df_scf['symbol']))))\n",
    "print('scf diff     ,', len(set(df_scf['symbol']).difference(set(df_hipathia['symbol']))))"
   ]
  },
  {
   "cell_type": "markdown",
   "metadata": {},
   "source": [
    "## Paper dataset"
   ]
  },
  {
   "cell_type": "code",
   "execution_count": 7,
   "metadata": {},
   "outputs": [
    {
     "name": "stdout",
     "output_type": "stream",
     "text": [
      "(9439, 403)\n"
     ]
    }
   ],
   "source": [
    "df_tpm_mouse = pd.read_csv('../third_party/PMC5737331/NN_code_release/important_file/TPM_mouse_7_8_10_PPITF_gene_9437.txt', sep='\\t')\n",
    "print(df_tpm_mouse.shape)"
   ]
  },
  {
   "cell_type": "markdown",
   "metadata": {},
   "source": [
    "## EXPORTING KEGG PATHWAY (geneSCF) WEIGHT"
   ]
  },
  {
   "cell_type": "code",
   "execution_count": 8,
   "metadata": {},
   "outputs": [
    {
     "name": "stdout",
     "output_type": "stream",
     "text": [
      "df_genescf_pathway shape,  (250, 4)\n"
     ]
    },
    {
     "data": {
      "text/html": [
       "<div>\n",
       "<style scoped>\n",
       "    .dataframe tbody tr th:only-of-type {\n",
       "        vertical-align: middle;\n",
       "    }\n",
       "\n",
       "    .dataframe tbody tr th {\n",
       "        vertical-align: top;\n",
       "    }\n",
       "\n",
       "    .dataframe thead th {\n",
       "        text-align: right;\n",
       "    }\n",
       "</style>\n",
       "<table border=\"1\" class=\"dataframe\">\n",
       "  <thead>\n",
       "    <tr style=\"text-align: right;\">\n",
       "      <th></th>\n",
       "      <th>pathway_id</th>\n",
       "      <th>pathway_name</th>\n",
       "      <th>pathway_genes</th>\n",
       "      <th>edit</th>\n",
       "    </tr>\n",
       "  </thead>\n",
       "  <tbody>\n",
       "    <tr>\n",
       "      <th>0</th>\n",
       "      <td>mmu00010</td>\n",
       "      <td>Glycolysis_/_Gluconeogenesis</td>\n",
       "      <td>103988,106557,110695,11522,11529,11532,11669,1...</td>\n",
       "      <td>1.0</td>\n",
       "    </tr>\n",
       "    <tr>\n",
       "      <th>1</th>\n",
       "      <td>mmu00020</td>\n",
       "      <td>Citrate_cycle_(TCA_cycle)</td>\n",
       "      <td>104112,11428,11429,12974,13382,14194,15926,159...</td>\n",
       "      <td>1.0</td>\n",
       "    </tr>\n",
       "    <tr>\n",
       "      <th>2</th>\n",
       "      <td>mmu00030</td>\n",
       "      <td>Pentose_phosphate_pathway</td>\n",
       "      <td>100198,110208,110639,11674,11676,14120,14121,1...</td>\n",
       "      <td>1.0</td>\n",
       "    </tr>\n",
       "    <tr>\n",
       "      <th>3</th>\n",
       "      <td>mmu00040</td>\n",
       "      <td>Pentose_and_glucuronate_interconversions</td>\n",
       "      <td>100559,100727,102448,110006,112417,11677,11997...</td>\n",
       "      <td>1.0</td>\n",
       "    </tr>\n",
       "    <tr>\n",
       "      <th>4</th>\n",
       "      <td>mmu00051</td>\n",
       "      <td>Fructose_and_mannose_metabolism</td>\n",
       "      <td>110119,11674,11676,11677,11997,14120,14121,141...</td>\n",
       "      <td>1.0</td>\n",
       "    </tr>\n",
       "  </tbody>\n",
       "</table>\n",
       "</div>"
      ],
      "text/plain": [
       "  pathway_id                              pathway_name  \\\n",
       "0   mmu00010              Glycolysis_/_Gluconeogenesis   \n",
       "1   mmu00020                 Citrate_cycle_(TCA_cycle)   \n",
       "2   mmu00030                 Pentose_phosphate_pathway   \n",
       "3   mmu00040  Pentose_and_glucuronate_interconversions   \n",
       "4   mmu00051           Fructose_and_mannose_metabolism   \n",
       "\n",
       "                                       pathway_genes  edit  \n",
       "0  103988,106557,110695,11522,11529,11532,11669,1...   1.0  \n",
       "1  104112,11428,11429,12974,13382,14194,15926,159...   1.0  \n",
       "2  100198,110208,110639,11674,11676,14120,14121,1...   1.0  \n",
       "3  100559,100727,102448,110006,112417,11677,11997...   1.0  \n",
       "4  110119,11674,11676,11677,11997,14120,14121,141...   1.0  "
      ]
     },
     "execution_count": 8,
     "metadata": {},
     "output_type": "execute_result"
    }
   ],
   "source": [
    "df_kegg_pathway = pd.read_csv(os.path.join(path_pathways + 'kegg_pathways_final.csv'), sep=',' )#sep='~|\\t'\n",
    "print('df_genescf_pathway shape, ',df_kegg_pathway.shape)\n",
    "df_kegg_pathway.head()"
   ]
  },
  {
   "cell_type": "code",
   "execution_count": 9,
   "metadata": {},
   "outputs": [
    {
     "name": "stdout",
     "output_type": "stream",
     "text": [
      "df_metabolic_weight shape,  (7893, 2)\n",
      "df_metabolic_weight_common shape (exported),  (3922, 250)\n"
     ]
    }
   ],
   "source": [
    "df_kegg_weight = df_scf.copy()\n",
    "print('df_metabolic_weight shape, ', df_kegg_weight.shape)\n",
    "df_temp = pd.DataFrame()\n",
    "for i, p_id in enumerate(df_kegg_pathway['pathway_id']):\n",
    "    df_temp = df_kegg_pathway.loc[df_kegg_pathway['pathway_id']==p_id]['pathway_genes'].str.split(',', expand=True).T#.reset_index()\n",
    "    df_temp = df_temp.drop(df_temp.loc[df_temp[i] == ''].index)#.set_index(i)\n",
    "    df_temp = df_temp.rename(columns={ i: 'gene_id'})\n",
    "    df_temp['gene_id']= pd.to_numeric(df_temp['gene_id'])\n",
    "    df_temp[p_id] = 1\n",
    "    df_kegg_weight = pd.merge(left=df_kegg_weight, right=df_temp, on='gene_id', how='left')\n",
    "\n",
    "df_kegg_weight = df_kegg_weight.fillna(0)\n",
    "del(df_temp)\n",
    "df_kegg_weight = df_kegg_weight.loc[df_kegg_weight['symbol'].isin(df_tpm_mouse['Sample'])].set_index('symbol').drop(columns='gene_id')\n",
    "\n",
    "## EXPORTING - THE WEIGHT TABLE for METABOLIC PATHWAY\n",
    "df_kegg_weight.to_csv(os.path.join(path_weights + 'pathway_metabolic_weight.txt'))\n",
    "print('df_metabolic_weight_common shape (exported), ', df_kegg_weight.shape)\n",
    "# print('EXPORTED!! - THE WEIGHT TABLE for METABOLIC PATHWAY')"
   ]
  },
  {
   "cell_type": "markdown",
   "metadata": {},
   "source": [
    "## EXPORTING SIGNALING PATHWAY(hipathia) WEIGHT"
   ]
  },
  {
   "cell_type": "code",
   "execution_count": null,
   "metadata": {},
   "outputs": [
    {
     "name": "stdout",
     "output_type": "stream",
     "text": [
      "df_signaling_weight shape, (3737, 2)\n"
     ]
    }
   ],
   "source": [
    "df_hipathia_weight = df_hipathia.copy()\n",
    "print('df_signaling_weight shape,', df_hipathia_weight.shape)\n",
    "df_hipathia_weight['gene_id'] = df_hipathia_weight['gene_id'].astype('object')\n",
    "df_hipathia_weight = df_hipathia_weight.rename(columns={'gene_id' : 'entrez'})\n",
    "for gene_list_ in sorted(glob.glob('../data/hipathia_genes_detail/mmu*.txt')):\n",
    "    df_temp = pd.read_csv(gene_list_ )\n",
    "    df_hipathia_weight = pd.merge(left=df_hipathia_weight, right=df_temp, on='entrez', how='left')\n",
    "\n",
    "df_hipathia_weight.drop(columns='entrez', inplace=True)\n",
    "df_hipathia_weight = df_hipathia_weight.fillna(0)\n",
    "df_hipathia_weight = df_hipathia_weight.set_index('symbol')\n",
    "df_hipathia_weight.columns = [pw[1] for pw in df_hipathia_weight.columns.str.split('-')]\n",
    "df_hipathia_weight = df_hipathia_weight.groupby(df_hipathia_weight.columns, axis=1).max()\n",
    "\n",
    "df_hipathia_weight = df_hipathia_weight.loc[df_hipathia_weight.index.isin(df_tpm_mouse['Sample'])]\n",
    "\n",
    "## EXPORTING - THE WEIGHT TABLE for SIGNALING PATHWAY\n",
    "df_hipathia_weight.to_csv(os.path.join(path_weights + 'pathway_signaling_weight.txt'))\n",
    "print('df_signaling_weight shape (exported), ', df_hipathia_weight.shape)\n",
    "print('EXPORTED!! - THE WEIGHT TABLE for SIGNALING PATHWAY')"
   ]
  },
  {
   "cell_type": "code",
   "execution_count": null,
   "metadata": {},
   "outputs": [],
   "source": [
    "print('Union        ,', len(set(df_hipathia_weight.index).union(set(df_kegg_weight.index))))\n",
    "print('Intersection ,', len(set(df_hipathia_weight.index).intersection(set(df_kegg_weight.index))))\n",
    "print('hipathia diff,', len(set(df_hipathia_weight.index).difference(set(df_kegg_weight.index))))\n",
    "print('scf diff     ,', len(set(df_kegg_weight.index).difference(set(df_hipathia_weight.index))))"
   ]
  },
  {
   "cell_type": "markdown",
   "metadata": {},
   "source": [
    "## EXPORTING GENE LISTS for RETRIEVAL ANALYSIS"
   ]
  },
  {
   "cell_type": "code",
   "execution_count": null,
   "metadata": {},
   "outputs": [],
   "source": [
    "pd.DataFrame(df_hipathia_weight.index).to_csv(os.path.join(path_weights + 'gene_signaling_retrieval.txt'), index=False, header=None)\n",
    "pd.DataFrame(df_kegg_weight.index).to_csv(os.path.join(path_weights + 'gene_met_sig_retrieval.txt'), index=False, header=None)\n",
    "\n",
    "print(len(df_hipathia_weight.index))\n",
    "print(len(df_kegg_weight.index))"
   ]
  }
 ],
 "metadata": {
  "kernelspec": {
   "display_name": "Python 3",
   "language": "python",
   "name": "python3"
  },
  "language_info": {
   "codemirror_mode": {
    "name": "ipython",
    "version": 3
   },
   "file_extension": ".py",
   "mimetype": "text/x-python",
   "name": "python",
   "nbconvert_exporter": "python",
   "pygments_lexer": "ipython3",
   "version": "3.8.4"
  }
 },
 "nbformat": 4,
 "nbformat_minor": 4
}