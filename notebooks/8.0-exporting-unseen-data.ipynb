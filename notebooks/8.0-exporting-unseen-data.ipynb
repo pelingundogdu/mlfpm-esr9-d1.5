{
 "cells": [
  {
   "cell_type": "code",
   "execution_count": 1,
   "metadata": {},
   "outputs": [],
   "source": [
    "import lib_data_operation as tfm_data\n",
    "\n",
    "import os\n",
    "import glob\n",
    "import pandas as pd\n",
    "import numpy as np\n",
    "\n",
    "import matplotlib.pyplot as plt\n",
    "\n",
    "from sklearn.cluster import KMeans\n",
    "from sklearn.manifold import TSNE\n",
    "from sklearn.model_selection import train_test_split\n",
    "from sklearn.metrics.cluster import adjusted_rand_score\n",
    "from sklearn.preprocessing import MinMaxScaler, StandardScaler\n",
    "\n",
    "from tensorflow import keras\n",
    "from tensorflow.keras.models import Model"
   ]
  },
  {
   "cell_type": "code",
   "execution_count": 2,
   "metadata": {},
   "outputs": [
    {
     "name": "stdout",
     "output_type": "stream",
     "text": [
      "../data/clustering/\n"
     ]
    }
   ],
   "source": [
    "# Creting output folder \n",
    "path_output = tfm_data.def_check_create_path(main_folder='clustering', sub_folder='')"
   ]
  },
  {
   "cell_type": "code",
   "execution_count": 3,
   "metadata": {},
   "outputs": [
    {
     "name": "stdout",
     "output_type": "stream",
     "text": [
      "df_unseen_all shape , (17293, 9439)\n"
     ]
    }
   ],
   "source": [
    "# Loading required data\n",
    "df_unseen_all = pd.read_csv('../third_party/PMC5737331/NN_code_release/important_file/integrate_imputing_dataset_kNN10_simgene.txt'\n",
    "                            , sep='\\t'\n",
    "                            , low_memory=False).set_index('Sample').T#.drop(columns='Weight')\n",
    "print('df_unseen_all shape ,',df_unseen_all.shape)"
   ]
  },
  {
   "cell_type": "code",
   "execution_count": 5,
   "metadata": {},
   "outputs": [
    {
     "name": "stdout",
     "output_type": "stream",
     "text": [
      "df_unseen shape , (3776, 9439)\n",
      "Label number    , 17\n"
     ]
    }
   ],
   "source": [
    "# NOT INCLUDED Dataset 16 and 24 because of the size of dataset.\n",
    "df_unseen = df_unseen_all.loc[df_unseen_all['Dataset'].isin(['1', '4', '6', '7', '8', '10', '16'])]\n",
    "print('df_unseen shape ,',df_unseen.shape)\n",
    "print('Label number    ,',len(df_unseen.groupby('Label').size()))\n",
    "\n",
    "# Saving the dataset\n",
    "df_unseen.to_csv(os.path.join(path_output+'/integrate_imputing_dataset_kNN10_1_4_6_7_8_10_16.txt'), sep=';')"
   ]
  }
 ],
 "metadata": {
  "kernelspec": {
   "display_name": "Python 3",
   "language": "python",
   "name": "python3"
  },
  "language_info": {
   "codemirror_mode": {
    "name": "ipython",
    "version": 3
   },
   "file_extension": ".py",
   "mimetype": "text/x-python",
   "name": "python",
   "nbconvert_exporter": "python",
   "pygments_lexer": "ipython3",
   "version": "3.8.4"
  }
 },
 "nbformat": 4,
 "nbformat_minor": 4
}