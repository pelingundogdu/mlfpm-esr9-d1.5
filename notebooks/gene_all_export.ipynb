{
 "cells": [
  {
   "cell_type": "code",
   "execution_count": null,
   "metadata": {},
   "outputs": [],
   "source": [
    "\" \n",
    "Details about this code   ;   - exporting genes which store signaling or metabolic information\n",
    "                                and stores genes (txt format)\n",
    "                              - exporting the conversion table which is between entrez and gene symbol\n",
    "Exported folder location ;  \n",
    "  1.  ../data/pathways/*      > stores genes list (txt format) and conversion table (between entrez and gene saymbol)\n",
    "\""
   ]
  },
  {
   "cell_type": "code",
   "execution_count": 1,
   "metadata": {
    "collapsed": true,
    "jupyter": {
     "outputs_hidden": true
    }
   },
   "outputs": [
    {
     "name": "stderr",
     "output_type": "stream",
     "text": [
      "Loading required package: AnnotationDbi\n",
      "Loading required package: stats4\n",
      "Loading required package: BiocGenerics\n",
      "Loading required package: parallel\n",
      "\n",
      "Attaching package: ‘BiocGenerics’\n",
      "\n",
      "The following objects are masked from ‘package:parallel’:\n",
      "\n",
      "    clusterApply, clusterApplyLB, clusterCall, clusterEvalQ,\n",
      "    clusterExport, clusterMap, parApply, parCapply, parLapply,\n",
      "    parLapplyLB, parRapply, parSapply, parSapplyLB\n",
      "\n",
      "The following objects are masked from ‘package:stats’:\n",
      "\n",
      "    IQR, mad, sd, var, xtabs\n",
      "\n",
      "The following objects are masked from ‘package:base’:\n",
      "\n",
      "    anyDuplicated, append, as.data.frame, basename, cbind, colnames,\n",
      "    dirname, do.call, duplicated, eval, evalq, Filter, Find, get, grep,\n",
      "    grepl, intersect, is.unsorted, lapply, Map, mapply, match, mget,\n",
      "    order, paste, pmax, pmax.int, pmin, pmin.int, Position, rank,\n",
      "    rbind, Reduce, rownames, sapply, setdiff, sort, table, tapply,\n",
      "    union, unique, unsplit, which, which.max, which.min\n",
      "\n",
      "Loading required package: Biobase\n",
      "Welcome to Bioconductor\n",
      "\n",
      "    Vignettes contain introductory material; view with\n",
      "    'browseVignettes()'. To cite Bioconductor, see\n",
      "    'citation(\"Biobase\")', and for packages 'citation(\"pkgname\")'.\n",
      "\n",
      "Loading required package: IRanges\n",
      "Loading required package: S4Vectors\n",
      "\n",
      "Attaching package: ‘S4Vectors’\n",
      "\n",
      "The following object is masked from ‘package:base’:\n",
      "\n",
      "    expand.grid\n",
      "\n",
      "\n"
     ]
    }
   ],
   "source": [
    "#library('igraph')        # converting graph to graphml format\n",
    "# library('hipathia')     # hipathia package\n",
    "library('org.Mm.eg.db')   # mmu, converting entrez to gene symbol\n",
    "library('AnnotationDbi')  # the gene name conversion"
   ]
  },
  {
   "cell_type": "code",
   "execution_count": 4,
   "metadata": {},
   "outputs": [
    {
     "name": "stderr",
     "output_type": "stream",
     "text": [
      "'select()' returned 1:1 mapping between keys and columns\n"
     ]
    },
    {
     "name": "stdout",
     "output_type": "stream",
     "text": [
      "[1] \"hipathia - c(3738, 1404, 1547, 1548, 1549, 849)\"\n",
      "[1] \"kegg - c(0, 22169, 56619, 15114, 74778, 16524)\"\n",
      "[1] \"\"\n",
      "[1] \"hipathia - the length of entrez_and_symbol_list, 3737\"\n",
      "[1] \"kegg     - the length of entrez_and_symbol_list, 7893\"\n"
     ]
    }
   ],
   "source": [
    "path_pathways = paste0('../data/pathways/')\n",
    "\n",
    "## entrez and symbol informatinon from 'org.Mm.eg.db' package\n",
    "mmu_entrez <- keys(org.Mm.eg.db,keytype=\"ENTREZID\")\n",
    "entrez_name_pair <- select(org.Mm.eg.db, keys=mmu_entrez, columns=c(\"ENTREZID\",\"SYMBOL\"), keytype=\"ENTREZID\")\n",
    "colnames(entrez_name_pair) = c('gene_id', 'symbol')\n",
    "\n",
    "#columns(org.Mm.eg.db)\n",
    "# head(keys(org.Mm.eg.db, keytype=\"SYMBOL\"))\n",
    "\n",
    "## hipathia pathways - signaling\n",
    "df_h <- read.table(paste0(path_pathways, 'hipathia_gene_list.csv'), quote='\\\"', comment.char='')\n",
    "colnames(df_h) = c('gene_id')\n",
    "print(paste0('hipathia - ', head(df_h)))\n",
    "\n",
    "df_h_es = merge(df_h, entrez_name_pair, by='gene_id', all.x='True')\n",
    "df_h_es <- df_h_es[which(is.na(df_h_es$symbol) == FALSE ), ]\n",
    "\n",
    "write.table(df_h_es, paste0(path_pathways,'hipathia_entrez_and_symbol.csv'),sep=',',row.names = FALSE)\n",
    "\n",
    "## geneSCF pathways - metabolic & signaling\n",
    "df_k <- read.table(paste0(path_pathways, 'kegg_gene_list.csv'), quote='\\\"', comment.char='')\n",
    "colnames(df_k) = c('gene_id')\n",
    "print(paste0('kegg - ', head(df_k)))\n",
    "\n",
    "df_k_es = merge(df_k, entrez_name_pair, by='gene_id', all.x='True')\n",
    "df_k_es <- df_k_es[which(is.na(df_k_es$symbol) == FALSE ), ]\n",
    "\n",
    "write.table(df_k_es, paste0(path_pathways,'kegg_entrez_and_symbol.csv'), sep=',',row.names = FALSE)\n",
    "print('')\n",
    "print(paste0('hipathia - the length of entrez_and_symbol_list, ', nrow(df_h_es)))\n",
    "print(paste0('kegg     - the length of entrez_and_symbol_list, ', nrow(df_k_es)))\n"
   ]
  },
  {
   "cell_type": "code",
   "execution_count": null,
   "metadata": {},
   "outputs": [],
   "source": []
  }
 ],
 "metadata": {
  "kernelspec": {
   "display_name": "R",
   "language": "R",
   "name": "ir"
  },
  "language_info": {
   "codemirror_mode": "r",
   "file_extension": ".r",
   "mimetype": "text/x-r-source",
   "name": "R",
   "pygments_lexer": "r",
   "version": "3.6.1"
  }
 },
 "nbformat": 4,
 "nbformat_minor": 4
}
