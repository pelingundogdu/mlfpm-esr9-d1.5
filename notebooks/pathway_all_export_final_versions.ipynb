{
 "cells": [
  {
   "cell_type": "code",
   "execution_count": 1,
   "metadata": {},
   "outputs": [],
   "source": [
    "import os\n",
    "import pandas as pd\n",
    "import numpy as np\n",
    "import warnings\n",
    "warnings.filterwarnings('ignore')"
   ]
  },
  {
   "cell_type": "code",
   "execution_count": 2,
   "metadata": {},
   "outputs": [],
   "source": [
    "path_pathways = '../data/pathways/'"
   ]
  },
  {
   "cell_type": "code",
   "execution_count": 3,
   "metadata": {},
   "outputs": [
    {
     "name": "stdout",
     "output_type": "stream",
     "text": [
      "Total number of pathways (KEGG),  333\n"
     ]
    }
   ],
   "source": [
    "df_kegg = pd.read_csv(os.path.join(path_pathways+'kegg_pathways_edited.csv'))#.drop(columns='Unnamed: 0')\n",
    "print('Total number of pathways (KEGG), ', len(df_kegg))\n",
    "# df_kegg.head()"
   ]
  },
  {
   "cell_type": "code",
   "execution_count": 16,
   "metadata": {},
   "outputs": [
    {
     "name": "stdout",
     "output_type": "stream",
     "text": [
      "Total number of sub-pathways (hiPathia),  6789\n",
      "Total number of pathways (hiPathia),  142\n"
     ]
    }
   ],
   "source": [
    "df_hipathia_raw = pd.read_csv(os.path.join(path_pathways + 'hipathia_pathways.csv'))\n",
    "print('Total number of sub-pathways (hiPathia), ', len(df_hipathia_raw))\n",
    "\n",
    "df_hipathia_all = df_hipathia_raw[['path.id', 'path.name']].drop_duplicates().reset_index(drop=True)\n",
    "df_hipathia_all.columns=['pathway_id', 'pathway_name']\n",
    "print('Total number of pathways (hiPathia), ',len(df_hipathia_all))\n",
    "# df_hipathia.head()"
   ]
  },
  {
   "cell_type": "code",
   "execution_count": 17,
   "metadata": {},
   "outputs": [
    {
     "name": "stdout",
     "output_type": "stream",
     "text": [
      "(333, 6)\n"
     ]
    }
   ],
   "source": [
    "df_merge = pd.merge(left=df_kegg, right=df_hipathia_all, on='pathway_id', how='left', indicator=True)\n",
    "print(df_merge.shape)\n",
    "# df_merge.head()"
   ]
  },
  {
   "cell_type": "code",
   "execution_count": 18,
   "metadata": {},
   "outputs": [
    {
     "name": "stdout",
     "output_type": "stream",
     "text": [
      "                 count\n",
      "edit _merge           \n",
      "0.0  left_only      33\n",
      "     right_only      0\n",
      "     both           50\n",
      "1.0  left_only     158\n",
      "     right_only      0\n",
      "     both           92\n",
      "The number of pathways which are not related with disease,  250\n"
     ]
    }
   ],
   "source": [
    "print(pd.DataFrame(df_merge.groupby(['edit', '_merge']).size(), columns=['count']))\n",
    "\n",
    "df_no_disease = df_merge.loc[(df_merge['edit']==1)]\n",
    "print('The number of pathways which are not related with disease, ', len(df_no_disease))"
   ]
  },
  {
   "cell_type": "code",
   "execution_count": 19,
   "metadata": {},
   "outputs": [
    {
     "name": "stdout",
     "output_type": "stream",
     "text": [
      "Checking final lists,\n",
      "\n",
      "hipathia 92\n",
      "kegg     250\n"
     ]
    }
   ],
   "source": [
    "df_hipathia = df_hipathia_raw.loc[df_hipathia_raw['path.id'].isin(df_no_disease['pathway_id'])]\n",
    "df_kegg_final = df_kegg.loc[df_kegg['pathway_id'].isin(df_no_disease['pathway_id'])]\n",
    "\n",
    "# hiPathia returns number of sub-pathways\n",
    "# print(df_hipathia_final.shape)\n",
    "# print(df_kegg_final.shape)\n",
    "\n",
    "print('Checking final lists,\\n\\nhipathia {}\\nkegg     {}'.format(len(df_hipathia.groupby('path.id').size()), len(df_kegg_final)))"
   ]
  },
  {
   "cell_type": "code",
   "execution_count": 20,
   "metadata": {},
   "outputs": [
    {
     "data": {
      "text/html": [
       "<div>\n",
       "<style scoped>\n",
       "    .dataframe tbody tr th:only-of-type {\n",
       "        vertical-align: middle;\n",
       "    }\n",
       "\n",
       "    .dataframe tbody tr th {\n",
       "        vertical-align: top;\n",
       "    }\n",
       "\n",
       "    .dataframe thead th {\n",
       "        text-align: right;\n",
       "    }\n",
       "</style>\n",
       "<table border=\"1\" class=\"dataframe\">\n",
       "  <thead>\n",
       "    <tr style=\"text-align: right;\">\n",
       "      <th></th>\n",
       "      <th>path.id</th>\n",
       "      <th>path.name</th>\n",
       "    </tr>\n",
       "  </thead>\n",
       "  <tbody>\n",
       "    <tr>\n",
       "      <th>0</th>\n",
       "      <td>mmu03320</td>\n",
       "      <td>PPAR signaling pathway</td>\n",
       "    </tr>\n",
       "    <tr>\n",
       "      <th>1</th>\n",
       "      <td>mmu04010</td>\n",
       "      <td>MAPK signaling pathway</td>\n",
       "    </tr>\n",
       "    <tr>\n",
       "      <th>2</th>\n",
       "      <td>mmu04012</td>\n",
       "      <td>ErbB signaling pathway</td>\n",
       "    </tr>\n",
       "    <tr>\n",
       "      <th>3</th>\n",
       "      <td>mmu04014</td>\n",
       "      <td>Ras signaling pathway</td>\n",
       "    </tr>\n",
       "    <tr>\n",
       "      <th>4</th>\n",
       "      <td>mmu04015</td>\n",
       "      <td>Rap1 signaling pathway</td>\n",
       "    </tr>\n",
       "    <tr>\n",
       "      <th>...</th>\n",
       "      <td>...</td>\n",
       "      <td>...</td>\n",
       "    </tr>\n",
       "    <tr>\n",
       "      <th>87</th>\n",
       "      <td>mmu04971</td>\n",
       "      <td>Gastric acid secretion</td>\n",
       "    </tr>\n",
       "    <tr>\n",
       "      <th>88</th>\n",
       "      <td>mmu04972</td>\n",
       "      <td>Pancreatic secretion</td>\n",
       "    </tr>\n",
       "    <tr>\n",
       "      <th>89</th>\n",
       "      <td>mmu04973</td>\n",
       "      <td>Carbohydrate digestion and absorption</td>\n",
       "    </tr>\n",
       "    <tr>\n",
       "      <th>90</th>\n",
       "      <td>mmu04976</td>\n",
       "      <td>Bile secretion</td>\n",
       "    </tr>\n",
       "    <tr>\n",
       "      <th>91</th>\n",
       "      <td>mmu05100</td>\n",
       "      <td>Bacterial invasion of epithelial cells</td>\n",
       "    </tr>\n",
       "  </tbody>\n",
       "</table>\n",
       "<p>92 rows × 2 columns</p>\n",
       "</div>"
      ],
      "text/plain": [
       "     path.id                               path.name\n",
       "0   mmu03320                  PPAR signaling pathway\n",
       "1   mmu04010                  MAPK signaling pathway\n",
       "2   mmu04012                  ErbB signaling pathway\n",
       "3   mmu04014                   Ras signaling pathway\n",
       "4   mmu04015                  Rap1 signaling pathway\n",
       "..       ...                                     ...\n",
       "87  mmu04971                  Gastric acid secretion\n",
       "88  mmu04972                    Pancreatic secretion\n",
       "89  mmu04973   Carbohydrate digestion and absorption\n",
       "90  mmu04976                          Bile secretion\n",
       "91  mmu05100  Bacterial invasion of epithelial cells\n",
       "\n",
       "[92 rows x 2 columns]"
      ]
     },
     "execution_count": 20,
     "metadata": {},
     "output_type": "execute_result"
    }
   ],
   "source": [
    "df_hipathia_final = df_hipathia[['path.id', 'path.name']].drop_duplicates().reset_index(drop=True)\n",
    "df_hipathia_final"
   ]
  },
  {
   "cell_type": "code",
   "execution_count": 24,
   "metadata": {},
   "outputs": [
    {
     "name": "stdout",
     "output_type": "stream",
     "text": [
      "Final versions of pathays exported!\n",
      "Location,  ../data/pathways/\n"
     ]
    }
   ],
   "source": [
    "df_hipathia_final.to_csv(os.path.join(path_pathways+'hipathia_pathways_final.csv') , index=False)\n",
    "df_kegg_final.to_csv(os.path.join(path_pathways+'kegg_pathways_final.csv'), index=False)\n",
    "print('Final versions of pathays exported!\\nLocation, ', path_pathways)"
   ]
  }
 ],
 "metadata": {
  "kernelspec": {
   "display_name": "Python 3",
   "language": "python",
   "name": "python3"
  },
  "language_info": {
   "codemirror_mode": {
    "name": "ipython",
    "version": 3
   },
   "file_extension": ".py",
   "mimetype": "text/x-python",
   "name": "python",
   "nbconvert_exporter": "python",
   "pygments_lexer": "ipython3",
   "version": "3.8.4"
  }
 },
 "nbformat": 4,
 "nbformat_minor": 4
}
