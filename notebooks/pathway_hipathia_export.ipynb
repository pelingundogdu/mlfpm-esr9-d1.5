{
 "cells": [
  {
   "cell_type": "code",
   "execution_count": 1,
   "metadata": {},
   "outputs": [
    {
     "data": {
      "text/html": [
       "<span style=white-space:pre-wrap>' \\nDetails about this code   ;   - exporting all genes and pathways information from hipathia \\n                                and stores genes (txt format) and pathways (graphml format) in specified location\\n                              - exporting the conversion table which is between entrez and gene symbol\\nExported folder location ;  \\n  1.  ../data/01_R_o_pathways &gt; stores all pathways (graphml format)\\n  2.  ../data/01_R_o_genes    &gt; stores genes list (txt format) and conversion table (between entrez and gene saymbol)\\n'</span>"
      ],
      "text/latex": [
       "' \\textbackslash{}nDetails about this code   ;   - exporting all genes and pathways information from hipathia \\textbackslash{}n                                and stores genes (txt format) and pathways (graphml format) in specified location\\textbackslash{}n                              - exporting the conversion table which is between entrez and gene symbol\\textbackslash{}nExported folder location ;  \\textbackslash{}n  1.  ../data/01\\_R\\_o\\_pathways > stores all pathways (graphml format)\\textbackslash{}n  2.  ../data/01\\_R\\_o\\_genes    > stores genes list (txt format) and conversion table (between entrez and gene saymbol)\\textbackslash{}n'"
      ],
      "text/markdown": [
       "<span style=white-space:pre-wrap>' \\nDetails about this code   ;   - exporting all genes and pathways information from hipathia \\n                                and stores genes (txt format) and pathways (graphml format) in specified location\\n                              - exporting the conversion table which is between entrez and gene symbol\\nExported folder location ;  \\n  1.  ../data/01_R_o_pathways &gt; stores all pathways (graphml format)\\n  2.  ../data/01_R_o_genes    &gt; stores genes list (txt format) and conversion table (between entrez and gene saymbol)\\n'</span>"
      ],
      "text/plain": [
       "[1] \" \\nDetails about this code   ;   - exporting all genes and pathways information from hipathia \\n                                and stores genes (txt format) and pathways (graphml format) in specified location\\n                              - exporting the conversion table which is between entrez and gene symbol\\nExported folder location ;  \\n  1.  ../data/01_R_o_pathways > stores all pathways (graphml format)\\n  2.  ../data/01_R_o_genes    > stores genes list (txt format) and conversion table (between entrez and gene saymbol)\\n\""
      ]
     },
     "metadata": {},
     "output_type": "display_data"
    }
   ],
   "source": [
    "\" \n",
    "Details about this code   ;   - exporting all genes and pathways information from hipathia \n",
    "                                and stores genes (txt format) and pathways (graphml format) in specified location\n",
    "                              - exporting the conversion table which is between entrez and gene symbol\n",
    "Exported folder location ;  \n",
    "  1.  ../data/01_R_o_pathways > stores all pathways (graphml format)\n",
    "  2.  ../data/01_R_o_genes    > stores genes list (txt format) and conversion table (between entrez and gene saymbol)\n",
    "\""
   ]
  },
  {
   "cell_type": "code",
   "execution_count": 1,
   "metadata": {
    "collapsed": true,
    "jupyter": {
     "outputs_hidden": true
    }
   },
   "outputs": [
    {
     "name": "stderr",
     "output_type": "stream",
     "text": [
      "Loading required package: igraph\n",
      "\n",
      "Attaching package: ‘igraph’\n",
      "\n",
      "The following objects are masked from ‘package:stats’:\n",
      "\n",
      "    decompose, spectrum\n",
      "\n",
      "The following object is masked from ‘package:base’:\n",
      "\n",
      "    union\n",
      "\n",
      "Loading required package: AnnotationHub\n",
      "Loading required package: BiocGenerics\n",
      "Loading required package: parallel\n",
      "\n",
      "Attaching package: ‘BiocGenerics’\n",
      "\n",
      "The following objects are masked from ‘package:parallel’:\n",
      "\n",
      "    clusterApply, clusterApplyLB, clusterCall, clusterEvalQ,\n",
      "    clusterExport, clusterMap, parApply, parCapply, parLapply,\n",
      "    parLapplyLB, parRapply, parSapply, parSapplyLB\n",
      "\n",
      "The following objects are masked from ‘package:igraph’:\n",
      "\n",
      "    normalize, path, union\n",
      "\n",
      "The following objects are masked from ‘package:stats’:\n",
      "\n",
      "    IQR, mad, sd, var, xtabs\n",
      "\n",
      "The following objects are masked from ‘package:base’:\n",
      "\n",
      "    anyDuplicated, append, as.data.frame, basename, cbind, colnames,\n",
      "    dirname, do.call, duplicated, eval, evalq, Filter, Find, get, grep,\n",
      "    grepl, intersect, is.unsorted, lapply, Map, mapply, match, mget,\n",
      "    order, paste, pmax, pmax.int, pmin, pmin.int, Position, rank,\n",
      "    rbind, Reduce, rownames, sapply, setdiff, sort, table, tapply,\n",
      "    union, unique, unsplit, which, which.max, which.min\n",
      "\n",
      "Loading required package: BiocFileCache\n",
      "Loading required package: dbplyr\n",
      "Loading required package: MultiAssayExperiment\n",
      "Loading required package: SummarizedExperiment\n",
      "Loading required package: GenomicRanges\n",
      "Loading required package: stats4\n",
      "Loading required package: S4Vectors\n",
      "\n",
      "Attaching package: ‘S4Vectors’\n",
      "\n",
      "The following object is masked from ‘package:base’:\n",
      "\n",
      "    expand.grid\n",
      "\n",
      "Loading required package: IRanges\n",
      "Loading required package: GenomeInfoDb\n",
      "Loading required package: Biobase\n",
      "Welcome to Bioconductor\n",
      "\n",
      "    Vignettes contain introductory material; view with\n",
      "    'browseVignettes()'. To cite Bioconductor, see\n",
      "    'citation(\"Biobase\")', and for packages 'citation(\"pkgname\")'.\n",
      "\n",
      "\n",
      "Attaching package: ‘Biobase’\n",
      "\n",
      "The following object is masked from ‘package:AnnotationHub’:\n",
      "\n",
      "    cache\n",
      "\n",
      "Loading required package: DelayedArray\n",
      "Loading required package: matrixStats\n",
      "\n",
      "Attaching package: ‘matrixStats’\n",
      "\n",
      "The following objects are masked from ‘package:Biobase’:\n",
      "\n",
      "    anyMissing, rowMedians\n",
      "\n",
      "Loading required package: BiocParallel\n",
      "\n",
      "Attaching package: ‘DelayedArray’\n",
      "\n",
      "The following objects are masked from ‘package:matrixStats’:\n",
      "\n",
      "    colMaxs, colMins, colRanges, rowMaxs, rowMins, rowRanges\n",
      "\n",
      "The following object is masked from ‘package:igraph’:\n",
      "\n",
      "    simplify\n",
      "\n",
      "The following objects are masked from ‘package:base’:\n",
      "\n",
      "    aperm, apply, rowsum\n",
      "\n",
      "Using temporary cache /tmp/RtmpIDZxLW/BiocFileCache\n",
      "snapshotDate(): 2019-10-29\n",
      "Using temporary cache /tmp/RtmpIDZxLW/BiocFileCache\n",
      "Using temporary cache /tmp/RtmpIDZxLW/BiocFileCache\n",
      "Loaded 142 pathways\n"
     ]
    }
   ],
   "source": [
    "library('hipathia') # hipathia package\n",
    "# library('igraph') # converting graph to graphml format\n",
    "# library('org.Mm.eg.db') #mmu, converting entrez to gene symbol\n",
    "# library('AnnotationDbi')\n",
    "\n",
    "path_pathways = paste0('../data/pathways/')\n",
    "# dir.create(path_pathways, showWarnings = FALSE)\n",
    "\n",
    "pathways <- load_pathways(species = 'mmu')\n",
    "# pathways_list <- get_pathways_list(pathways)\n",
    "# get_path_names(pathways)\n",
    "\n",
    "df_pathways = data.frame(pathways$all.labelids)\n",
    "# list_path_id = levels(df_pathways$path.id)\n",
    "# print(list_path_id[1])\n",
    "# list_path_id"
   ]
  },
  {
   "cell_type": "code",
   "execution_count": 2,
   "metadata": {},
   "outputs": [
    {
     "data": {
      "text/html": [
       "6789"
      ],
      "text/latex": [
       "6789"
      ],
      "text/markdown": [
       "6789"
      ],
      "text/plain": [
       "[1] 6789"
      ]
     },
     "metadata": {},
     "output_type": "display_data"
    }
   ],
   "source": [
    "nrow(df_pathways)"
   ]
  },
  {
   "cell_type": "code",
   "execution_count": 3,
   "metadata": {},
   "outputs": [
    {
     "data": {
      "text/html": [
       "142"
      ],
      "text/latex": [
       "142"
      ],
      "text/markdown": [
       "142"
      ],
      "text/plain": [
       "[1] 142"
      ]
     },
     "metadata": {},
     "output_type": "display_data"
    }
   ],
   "source": [
    "length(unique(df_pathways$path.id))"
   ]
  },
  {
   "cell_type": "code",
   "execution_count": 4,
   "metadata": {},
   "outputs": [
    {
     "name": "stdout",
     "output_type": "stream",
     "text": [
      "[1] \"hiPathia pathways exported!! - ../data/pathways/hipathia_pathways.csv\"\n"
     ]
    }
   ],
   "source": [
    "write.table(df_pathways, paste0(path_pathways,'hipathia_pathways.csv'), sep=',',row.names = FALSE, col.names = TRUE)\n",
    "print(paste0('hiPathia pathways exported!! - ', path_pathways, 'hipathia_pathways.csv') )"
   ]
  },
  {
   "cell_type": "code",
   "execution_count": null,
   "metadata": {},
   "outputs": [],
   "source": []
  }
 ],
 "metadata": {
  "kernelspec": {
   "display_name": "R",
   "language": "R",
   "name": "ir"
  },
  "language_info": {
   "codemirror_mode": "r",
   "file_extension": ".r",
   "mimetype": "text/x-r-source",
   "name": "R",
   "pygments_lexer": "r",
   "version": "3.6.1"
  }
 },
 "nbformat": 4,
 "nbformat_minor": 4
}
