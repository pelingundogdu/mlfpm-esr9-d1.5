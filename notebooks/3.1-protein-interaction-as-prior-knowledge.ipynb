{
 "cells": [
  {
   "cell_type": "code",
   "execution_count": 1,
   "metadata": {},
   "outputs": [],
   "source": [
    "# Required libraries\n",
    "\n",
    "import os\n",
    "import glob\n",
    "import numpy as np\n",
    "import pandas as pd\n",
    "import warnings\n",
    "warnings.filterwarnings('ignore')"
   ]
  },
  {
   "cell_type": "code",
   "execution_count": 2,
   "metadata": {},
   "outputs": [],
   "source": [
    "path_weights = '../data/weights/'"
   ]
  },
  {
   "cell_type": "markdown",
   "metadata": {},
   "source": [
    "# Importing ppi_tf_merge_cluster_ges"
   ]
  },
  {
   "cell_type": "code",
   "execution_count": 3,
   "metadata": {},
   "outputs": [
    {
     "data": {
      "text/plain": [
       "(696, 2)"
      ]
     },
     "execution_count": 3,
     "metadata": {},
     "output_type": "execute_result"
    }
   ],
   "source": [
    "df_ppi_tf = pd.read_csv('../third_party/PMC5737331/NN_code_release/ppi_tf_merge_cluster.txt', sep=' ', header=None)\n",
    "df_ppi_tf.shape"
   ]
  },
  {
   "cell_type": "code",
   "execution_count": 4,
   "metadata": {},
   "outputs": [
    {
     "data": {
      "text/plain": [
       "ppi_or_tf\n",
       "ppi    348\n",
       "tf     348\n",
       "dtype: int64"
      ]
     },
     "execution_count": 4,
     "metadata": {},
     "output_type": "execute_result"
    }
   ],
   "source": [
    "df_ppi_tf['ppi_or_tf'] = 'ppi'\n",
    "df_ppi_tf.loc[(df_ppi_tf.loc[df_ppi_tf[0]=='TF:'].index), 'ppi_or_tf'] = 'tf'\n",
    "df_ppi_tf.groupby('ppi_or_tf').size()"
   ]
  },
  {
   "cell_type": "code",
   "execution_count": 5,
   "metadata": {},
   "outputs": [],
   "source": [
    "# WEIGHT TABLE for PPI and TF\n",
    "df_tf = df_ppi_tf.loc[df_ppi_tf['ppi_or_tf'] == 'tf'][[1]].reset_index(drop=True)\n",
    "df_tf = df_tf.rename(columns={1:'gene'})\n",
    "df_ppi = df_ppi_tf.loc[df_ppi_tf['ppi_or_tf'] == 'ppi'][[0]].reset_index(drop=True)\n",
    "df_ppi = df_ppi.rename(columns={0:'gene'})\n",
    "## removing 'ppi_xx\\t' prefix from dataset\n",
    "df_ppi = df_ppi.replace(regex='ppi_\\d{1,4}\\\\t', value='')"
   ]
  },
  {
   "cell_type": "code",
   "execution_count": 6,
   "metadata": {},
   "outputs": [],
   "source": [
    "# Exporting the gene list which shows the details about genes and their belonging nodes\n",
    "list_tf = [item for sublist in df_tf['gene'].str.split('\\t') for item in sublist]\n",
    "list_ppi = [item for sublist in df_ppi['gene'].str.split('\\t') for item in sublist]"
   ]
  },
  {
   "cell_type": "code",
   "execution_count": 7,
   "metadata": {},
   "outputs": [
    {
     "name": "stdout",
     "output_type": "stream",
     "text": [
      "lenght of list_tf  (all)   ,  51012\n",
      "lenght of list_ppi (all)   ,  5885\n",
      "\n",
      "lenght of list_tf  (unique),  8307\n",
      "lenght of list_ppi (unique),  3553\n",
      "\n",
      "lenght of list_common_gene ,  9520\n"
     ]
    }
   ],
   "source": [
    "print('lenght of list_tf  (all)   , ', len(list_tf))\n",
    "print('lenght of list_ppi (all)   , ', len(list_ppi))\n",
    "print('')\n",
    "print('lenght of list_tf  (unique), ', len(np.unique(list_tf)))\n",
    "print('lenght of list_ppi (unique), ', len(np.unique(list_ppi)))\n",
    "print('')\n",
    "list_ppi_tf_union =  list(set(list_ppi).union(set(list_tf)))\n",
    "print('lenght of list_common_gene , ', len(list_ppi_tf_union))"
   ]
  },
  {
   "cell_type": "code",
   "execution_count": 8,
   "metadata": {},
   "outputs": [],
   "source": [
    "df_tf['node'] = pd.DataFrame(['tf_'+str(x) for x in df_tf.index.values])\n",
    "df_ppi['node'] = pd.DataFrame(['ppi_'+str(x) for x in df_ppi.index.values])"
   ]
  },
  {
   "cell_type": "markdown",
   "metadata": {},
   "source": [
    "# Creating weight table for TF nodes"
   ]
  },
  {
   "cell_type": "code",
   "execution_count": 9,
   "metadata": {},
   "outputs": [],
   "source": [
    "df_tf_weight = pd.DataFrame(np.unique(list_tf))\n",
    "df_tf_weight = df_tf_weight.rename(columns={0:'symbol'})\n",
    "\n",
    "for i, node_ in enumerate(df_tf['node']):\n",
    "#    print(i, node_)\n",
    "    df_tf_weight[node_] = 0.0\n",
    "    list_isin = df_tf.iloc[i]['gene'].split('\\t')\n",
    "    df_tf_weight.loc[df_tf_weight['symbol'].isin(list_isin), node_] = 1.0"
   ]
  },
  {
   "cell_type": "code",
   "execution_count": 10,
   "metadata": {},
   "outputs": [],
   "source": [
    "# Exporting TF weight table\n",
    "df_tf_weight.to_csv(os.path.join(path_weights + 'tf_weight.txt'), index=False)"
   ]
  },
  {
   "cell_type": "markdown",
   "metadata": {},
   "source": [
    "# Creating weight table for TF nodes"
   ]
  },
  {
   "cell_type": "code",
   "execution_count": 11,
   "metadata": {},
   "outputs": [],
   "source": [
    "df_ppi_weight = pd.DataFrame(np.unique(list_ppi))\n",
    "df_ppi_weight = df_ppi_weight.rename(columns={0:'symbol'})\n",
    "\n",
    "for i, node_ in enumerate(df_ppi['node']):\n",
    "#    print(i, node_)\n",
    "    df_ppi_weight[node_] = 0.0\n",
    "    list_isin = df_ppi.iloc[i]['gene'].split('\\t')\n",
    "    df_ppi_weight.loc[df_ppi_weight['symbol'].isin(list_isin), node_] = 1.0"
   ]
  },
  {
   "cell_type": "raw",
   "metadata": {},
   "source": [
    "df_ppi_weight.loc[df_ppi_weight['ppi_0']==1]"
   ]
  },
  {
   "cell_type": "raw",
   "metadata": {},
   "source": [
    "len(df_ppi.iloc[0]['gene'].split('\\t'))"
   ]
  },
  {
   "cell_type": "code",
   "execution_count": 12,
   "metadata": {},
   "outputs": [],
   "source": [
    "# Exporting TF weight table\n",
    "df_ppi_weight.to_csv(os.path.join(path_weights + 'ppi_weight.txt'), index=False)"
   ]
  },
  {
   "cell_type": "code",
   "execution_count": null,
   "metadata": {},
   "outputs": [],
   "source": []
  }
 ],
 "metadata": {
  "kernelspec": {
   "display_name": "Python 3",
   "language": "python",
   "name": "python3"
  },
  "language_info": {
   "codemirror_mode": {
    "name": "ipython",
    "version": 3
   },
   "file_extension": ".py",
   "mimetype": "text/x-python",
   "name": "python",
   "nbconvert_exporter": "python",
   "pygments_lexer": "ipython3",
   "version": "3.8.4"
  }
 },
 "nbformat": 4,
 "nbformat_minor": 4
}