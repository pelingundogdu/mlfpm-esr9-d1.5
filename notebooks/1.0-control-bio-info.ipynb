{
 "cells": [
  {
   "cell_type": "code",
   "execution_count": null,
   "metadata": {},
   "outputs": [],
   "source": [
    "# Checking and controling required dataset before starting to use."
   ]
  },
  {
   "cell_type": "code",
   "execution_count": 1,
   "metadata": {},
   "outputs": [],
   "source": [
    "import os\n",
    "import pandas as pd\n",
    "import warnings\n",
    "warnings.filterwarnings('ignore')"
   ]
  },
  {
   "cell_type": "markdown",
   "metadata": {},
   "source": [
    "### PATHWAY - hiPathia"
   ]
  },
  {
   "cell_type": "code",
   "execution_count": 3,
   "metadata": {},
   "outputs": [
    {
     "name": "stdout",
     "output_type": "stream",
     "text": [
      "(6789, 4)\n"
     ]
    },
    {
     "data": {
      "text/html": [
       "<div>\n",
       "<style scoped>\n",
       "    .dataframe tbody tr th:only-of-type {\n",
       "        vertical-align: middle;\n",
       "    }\n",
       "\n",
       "    .dataframe tbody tr th {\n",
       "        vertical-align: top;\n",
       "    }\n",
       "\n",
       "    .dataframe thead th {\n",
       "        text-align: right;\n",
       "    }\n",
       "</style>\n",
       "<table border=\"1\" class=\"dataframe\">\n",
       "  <thead>\n",
       "    <tr style=\"text-align: right;\">\n",
       "      <th></th>\n",
       "      <th>name</th>\n",
       "      <th>label</th>\n",
       "      <th>path.id</th>\n",
       "      <th>path.name</th>\n",
       "    </tr>\n",
       "  </thead>\n",
       "  <tbody>\n",
       "    <tr>\n",
       "      <th>0</th>\n",
       "      <td>N-mmu03320-1</td>\n",
       "      <td>Leukotriene B4</td>\n",
       "      <td>mmu03320</td>\n",
       "      <td>PPAR signaling pathway</td>\n",
       "    </tr>\n",
       "    <tr>\n",
       "      <th>1</th>\n",
       "      <td>N-mmu03320-2</td>\n",
       "      <td>BR:br08303(C10AB fibrates)</td>\n",
       "      <td>mmu03320</td>\n",
       "      <td>PPAR signaling pathway</td>\n",
       "    </tr>\n",
       "    <tr>\n",
       "      <th>2</th>\n",
       "      <td>N-mmu03320-3</td>\n",
       "      <td>BR:br08303(S01BC Antiinflammatory agents, non-...</td>\n",
       "      <td>mmu03320</td>\n",
       "      <td>PPAR signaling pathway</td>\n",
       "    </tr>\n",
       "    <tr>\n",
       "      <th>3</th>\n",
       "      <td>N-mmu03320-4</td>\n",
       "      <td>9-cis-Retinoic acid</td>\n",
       "      <td>mmu03320</td>\n",
       "      <td>PPAR signaling pathway</td>\n",
       "    </tr>\n",
       "    <tr>\n",
       "      <th>4</th>\n",
       "      <td>N-mmu03320-5</td>\n",
       "      <td>9-cis-Retinoic acid*</td>\n",
       "      <td>mmu03320</td>\n",
       "      <td>PPAR signaling pathway</td>\n",
       "    </tr>\n",
       "  </tbody>\n",
       "</table>\n",
       "</div>"
      ],
      "text/plain": [
       "           name                                              label   path.id  \\\n",
       "0  N-mmu03320-1                                     Leukotriene B4  mmu03320   \n",
       "1  N-mmu03320-2                         BR:br08303(C10AB fibrates)  mmu03320   \n",
       "2  N-mmu03320-3  BR:br08303(S01BC Antiinflammatory agents, non-...  mmu03320   \n",
       "3  N-mmu03320-4                                9-cis-Retinoic acid  mmu03320   \n",
       "4  N-mmu03320-5                               9-cis-Retinoic acid*  mmu03320   \n",
       "\n",
       "                path.name  \n",
       "0  PPAR signaling pathway  \n",
       "1  PPAR signaling pathway  \n",
       "2  PPAR signaling pathway  \n",
       "3  PPAR signaling pathway  \n",
       "4  PPAR signaling pathway  "
      ]
     },
     "execution_count": 3,
     "metadata": {},
     "output_type": "execute_result"
    }
   ],
   "source": [
    "df_h = pd.read_csv('../data/pathways/hipathia_pathways.csv')\n",
    "print(df_h.shape)\n",
    "df_h.head()\n",
    "# (6789, 4)"
   ]
  },
  {
   "cell_type": "code",
   "execution_count": 20,
   "metadata": {},
   "outputs": [
    {
     "name": "stdout",
     "output_type": "stream",
     "text": [
      "(92, 2)\n"
     ]
    },
    {
     "data": {
      "text/html": [
       "<div>\n",
       "<style scoped>\n",
       "    .dataframe tbody tr th:only-of-type {\n",
       "        vertical-align: middle;\n",
       "    }\n",
       "\n",
       "    .dataframe tbody tr th {\n",
       "        vertical-align: top;\n",
       "    }\n",
       "\n",
       "    .dataframe thead th {\n",
       "        text-align: right;\n",
       "    }\n",
       "</style>\n",
       "<table border=\"1\" class=\"dataframe\">\n",
       "  <thead>\n",
       "    <tr style=\"text-align: right;\">\n",
       "      <th></th>\n",
       "      <th>path.id</th>\n",
       "      <th>path.name</th>\n",
       "    </tr>\n",
       "  </thead>\n",
       "  <tbody>\n",
       "    <tr>\n",
       "      <th>0</th>\n",
       "      <td>mmu03320</td>\n",
       "      <td>PPAR signaling pathway</td>\n",
       "    </tr>\n",
       "    <tr>\n",
       "      <th>1</th>\n",
       "      <td>mmu04010</td>\n",
       "      <td>MAPK signaling pathway</td>\n",
       "    </tr>\n",
       "    <tr>\n",
       "      <th>2</th>\n",
       "      <td>mmu04012</td>\n",
       "      <td>ErbB signaling pathway</td>\n",
       "    </tr>\n",
       "    <tr>\n",
       "      <th>3</th>\n",
       "      <td>mmu04014</td>\n",
       "      <td>Ras signaling pathway</td>\n",
       "    </tr>\n",
       "    <tr>\n",
       "      <th>4</th>\n",
       "      <td>mmu04015</td>\n",
       "      <td>Rap1 signaling pathway</td>\n",
       "    </tr>\n",
       "  </tbody>\n",
       "</table>\n",
       "</div>"
      ],
      "text/plain": [
       "    path.id               path.name\n",
       "0  mmu03320  PPAR signaling pathway\n",
       "1  mmu04010  MAPK signaling pathway\n",
       "2  mmu04012  ErbB signaling pathway\n",
       "3  mmu04014   Ras signaling pathway\n",
       "4  mmu04015  Rap1 signaling pathway"
      ]
     },
     "execution_count": 20,
     "metadata": {},
     "output_type": "execute_result"
    }
   ],
   "source": [
    "df_h_final = pd.read_csv('../data/pathways/hipathia_pathways_final.csv')\n",
    "print(df_h_final.shape)\n",
    "df_h_final.head()\n",
    "# (4528, 4)"
   ]
  },
  {
   "cell_type": "markdown",
   "metadata": {},
   "source": [
    "### PATHWAY - KEGG"
   ]
  },
  {
   "cell_type": "code",
   "execution_count": 9,
   "metadata": {},
   "outputs": [
    {
     "name": "stdout",
     "output_type": "stream",
     "text": [
      "(333, 3)\n"
     ]
    },
    {
     "data": {
      "text/html": [
       "<div>\n",
       "<style scoped>\n",
       "    .dataframe tbody tr th:only-of-type {\n",
       "        vertical-align: middle;\n",
       "    }\n",
       "\n",
       "    .dataframe tbody tr th {\n",
       "        vertical-align: top;\n",
       "    }\n",
       "\n",
       "    .dataframe thead th {\n",
       "        text-align: right;\n",
       "    }\n",
       "</style>\n",
       "<table border=\"1\" class=\"dataframe\">\n",
       "  <thead>\n",
       "    <tr style=\"text-align: right;\">\n",
       "      <th></th>\n",
       "      <th>pathway_id</th>\n",
       "      <th>pathway_name</th>\n",
       "      <th>pathway_genes</th>\n",
       "    </tr>\n",
       "  </thead>\n",
       "  <tbody>\n",
       "    <tr>\n",
       "      <th>0</th>\n",
       "      <td>mmu00010</td>\n",
       "      <td>Glycolysis_/_Gluconeogenesis</td>\n",
       "      <td>103988,106557,110695,11522,11529,11532,11669,1...</td>\n",
       "    </tr>\n",
       "    <tr>\n",
       "      <th>1</th>\n",
       "      <td>mmu00020</td>\n",
       "      <td>Citrate_cycle_(TCA_cycle)</td>\n",
       "      <td>104112,11428,11429,12974,13382,14194,15926,159...</td>\n",
       "    </tr>\n",
       "    <tr>\n",
       "      <th>2</th>\n",
       "      <td>mmu00030</td>\n",
       "      <td>Pentose_phosphate_pathway</td>\n",
       "      <td>100198,110208,110639,11674,11676,14120,14121,1...</td>\n",
       "    </tr>\n",
       "    <tr>\n",
       "      <th>3</th>\n",
       "      <td>mmu00040</td>\n",
       "      <td>Pentose_and_glucuronate_interconversions</td>\n",
       "      <td>100559,100727,102448,110006,112417,11677,11997...</td>\n",
       "    </tr>\n",
       "    <tr>\n",
       "      <th>4</th>\n",
       "      <td>mmu00051</td>\n",
       "      <td>Fructose_and_mannose_metabolism</td>\n",
       "      <td>110119,11674,11676,11677,11997,14120,14121,141...</td>\n",
       "    </tr>\n",
       "  </tbody>\n",
       "</table>\n",
       "</div>"
      ],
      "text/plain": [
       "  pathway_id                              pathway_name  \\\n",
       "0   mmu00010              Glycolysis_/_Gluconeogenesis   \n",
       "1   mmu00020                 Citrate_cycle_(TCA_cycle)   \n",
       "2   mmu00030                 Pentose_phosphate_pathway   \n",
       "3   mmu00040  Pentose_and_glucuronate_interconversions   \n",
       "4   mmu00051           Fructose_and_mannose_metabolism   \n",
       "\n",
       "                                       pathway_genes  \n",
       "0  103988,106557,110695,11522,11529,11532,11669,1...  \n",
       "1  104112,11428,11429,12974,13382,14194,15926,159...  \n",
       "2  100198,110208,110639,11674,11676,14120,14121,1...  \n",
       "3  100559,100727,102448,110006,112417,11677,11997...  \n",
       "4  110119,11674,11676,11677,11997,14120,14121,141...  "
      ]
     },
     "execution_count": 9,
     "metadata": {},
     "output_type": "execute_result"
    }
   ],
   "source": [
    "df_kegg_raw = pd.read_csv('../source/geneSCF/class/lib/db/mmu/kegg_database.txt', error_bad_lines=False, sep='~|\\t', header=None)\n",
    "df_kegg_raw.columns = ['pathway_id', 'pathway_name', 'pathway_genes']\n",
    "print(df_kegg_raw.shape)\n",
    "df_kegg_raw.head()\n",
    "# (333, 3)"
   ]
  },
  {
   "cell_type": "code",
   "execution_count": 10,
   "metadata": {},
   "outputs": [
    {
     "name": "stdout",
     "output_type": "stream",
     "text": [
      "(333, 4)\n"
     ]
    },
    {
     "data": {
      "text/html": [
       "<div>\n",
       "<style scoped>\n",
       "    .dataframe tbody tr th:only-of-type {\n",
       "        vertical-align: middle;\n",
       "    }\n",
       "\n",
       "    .dataframe tbody tr th {\n",
       "        vertical-align: top;\n",
       "    }\n",
       "\n",
       "    .dataframe thead th {\n",
       "        text-align: right;\n",
       "    }\n",
       "</style>\n",
       "<table border=\"1\" class=\"dataframe\">\n",
       "  <thead>\n",
       "    <tr style=\"text-align: right;\">\n",
       "      <th></th>\n",
       "      <th>pathway_id</th>\n",
       "      <th>pathway_name</th>\n",
       "      <th>pathway_genes</th>\n",
       "      <th>edit</th>\n",
       "    </tr>\n",
       "  </thead>\n",
       "  <tbody>\n",
       "    <tr>\n",
       "      <th>0</th>\n",
       "      <td>mmu00010</td>\n",
       "      <td>Glycolysis_/_Gluconeogenesis</td>\n",
       "      <td>103988,106557,110695,11522,11529,11532,11669,1...</td>\n",
       "      <td>1.0</td>\n",
       "    </tr>\n",
       "    <tr>\n",
       "      <th>1</th>\n",
       "      <td>mmu00020</td>\n",
       "      <td>Citrate_cycle_(TCA_cycle)</td>\n",
       "      <td>104112,11428,11429,12974,13382,14194,15926,159...</td>\n",
       "      <td>1.0</td>\n",
       "    </tr>\n",
       "    <tr>\n",
       "      <th>2</th>\n",
       "      <td>mmu00030</td>\n",
       "      <td>Pentose_phosphate_pathway</td>\n",
       "      <td>100198,110208,110639,11674,11676,14120,14121,1...</td>\n",
       "      <td>1.0</td>\n",
       "    </tr>\n",
       "    <tr>\n",
       "      <th>3</th>\n",
       "      <td>mmu00040</td>\n",
       "      <td>Pentose_and_glucuronate_interconversions</td>\n",
       "      <td>100559,100727,102448,110006,112417,11677,11997...</td>\n",
       "      <td>1.0</td>\n",
       "    </tr>\n",
       "    <tr>\n",
       "      <th>4</th>\n",
       "      <td>mmu00051</td>\n",
       "      <td>Fructose_and_mannose_metabolism</td>\n",
       "      <td>110119,11674,11676,11677,11997,14120,14121,141...</td>\n",
       "      <td>1.0</td>\n",
       "    </tr>\n",
       "  </tbody>\n",
       "</table>\n",
       "</div>"
      ],
      "text/plain": [
       "  pathway_id                              pathway_name  \\\n",
       "0   mmu00010              Glycolysis_/_Gluconeogenesis   \n",
       "1   mmu00020                 Citrate_cycle_(TCA_cycle)   \n",
       "2   mmu00030                 Pentose_phosphate_pathway   \n",
       "3   mmu00040  Pentose_and_glucuronate_interconversions   \n",
       "4   mmu00051           Fructose_and_mannose_metabolism   \n",
       "\n",
       "                                       pathway_genes  edit  \n",
       "0  103988,106557,110695,11522,11529,11532,11669,1...   1.0  \n",
       "1  104112,11428,11429,12974,13382,14194,15926,159...   1.0  \n",
       "2  100198,110208,110639,11674,11676,14120,14121,1...   1.0  \n",
       "3  100559,100727,102448,110006,112417,11677,11997...   1.0  \n",
       "4  110119,11674,11676,11677,11997,14120,14121,141...   1.0  "
      ]
     },
     "execution_count": 10,
     "metadata": {},
     "output_type": "execute_result"
    }
   ],
   "source": [
    "df_kepp_p_edit = pd.read_csv('../data/pathways/kegg_pathways_edited.csv')\n",
    "print(df_kepp_p_edit.shape)\n",
    "df_kepp_p_edit.head()\n",
    "# (333, 4)"
   ]
  },
  {
   "cell_type": "code",
   "execution_count": 11,
   "metadata": {},
   "outputs": [
    {
     "name": "stdout",
     "output_type": "stream",
     "text": [
      "(250, 4)\n"
     ]
    },
    {
     "data": {
      "text/html": [
       "<div>\n",
       "<style scoped>\n",
       "    .dataframe tbody tr th:only-of-type {\n",
       "        vertical-align: middle;\n",
       "    }\n",
       "\n",
       "    .dataframe tbody tr th {\n",
       "        vertical-align: top;\n",
       "    }\n",
       "\n",
       "    .dataframe thead th {\n",
       "        text-align: right;\n",
       "    }\n",
       "</style>\n",
       "<table border=\"1\" class=\"dataframe\">\n",
       "  <thead>\n",
       "    <tr style=\"text-align: right;\">\n",
       "      <th></th>\n",
       "      <th>pathway_id</th>\n",
       "      <th>pathway_name</th>\n",
       "      <th>pathway_genes</th>\n",
       "      <th>edit</th>\n",
       "    </tr>\n",
       "  </thead>\n",
       "  <tbody>\n",
       "    <tr>\n",
       "      <th>0</th>\n",
       "      <td>mmu00010</td>\n",
       "      <td>Glycolysis_/_Gluconeogenesis</td>\n",
       "      <td>103988,106557,110695,11522,11529,11532,11669,1...</td>\n",
       "      <td>1.0</td>\n",
       "    </tr>\n",
       "    <tr>\n",
       "      <th>1</th>\n",
       "      <td>mmu00020</td>\n",
       "      <td>Citrate_cycle_(TCA_cycle)</td>\n",
       "      <td>104112,11428,11429,12974,13382,14194,15926,159...</td>\n",
       "      <td>1.0</td>\n",
       "    </tr>\n",
       "    <tr>\n",
       "      <th>2</th>\n",
       "      <td>mmu00030</td>\n",
       "      <td>Pentose_phosphate_pathway</td>\n",
       "      <td>100198,110208,110639,11674,11676,14120,14121,1...</td>\n",
       "      <td>1.0</td>\n",
       "    </tr>\n",
       "    <tr>\n",
       "      <th>3</th>\n",
       "      <td>mmu00040</td>\n",
       "      <td>Pentose_and_glucuronate_interconversions</td>\n",
       "      <td>100559,100727,102448,110006,112417,11677,11997...</td>\n",
       "      <td>1.0</td>\n",
       "    </tr>\n",
       "    <tr>\n",
       "      <th>4</th>\n",
       "      <td>mmu00051</td>\n",
       "      <td>Fructose_and_mannose_metabolism</td>\n",
       "      <td>110119,11674,11676,11677,11997,14120,14121,141...</td>\n",
       "      <td>1.0</td>\n",
       "    </tr>\n",
       "  </tbody>\n",
       "</table>\n",
       "</div>"
      ],
      "text/plain": [
       "  pathway_id                              pathway_name  \\\n",
       "0   mmu00010              Glycolysis_/_Gluconeogenesis   \n",
       "1   mmu00020                 Citrate_cycle_(TCA_cycle)   \n",
       "2   mmu00030                 Pentose_phosphate_pathway   \n",
       "3   mmu00040  Pentose_and_glucuronate_interconversions   \n",
       "4   mmu00051           Fructose_and_mannose_metabolism   \n",
       "\n",
       "                                       pathway_genes  edit  \n",
       "0  103988,106557,110695,11522,11529,11532,11669,1...   1.0  \n",
       "1  104112,11428,11429,12974,13382,14194,15926,159...   1.0  \n",
       "2  100198,110208,110639,11674,11676,14120,14121,1...   1.0  \n",
       "3  100559,100727,102448,110006,112417,11677,11997...   1.0  \n",
       "4  110119,11674,11676,11677,11997,14120,14121,141...   1.0  "
      ]
     },
     "execution_count": 11,
     "metadata": {},
     "output_type": "execute_result"
    }
   ],
   "source": [
    "df_kepp_p_final = pd.read_csv('../data/pathways/kegg_pathways_final.csv')\n",
    "print(df_kepp_p_final.shape)\n",
    "df_kepp_p_final.head()\n",
    "# (250, 4)"
   ]
  },
  {
   "cell_type": "markdown",
   "metadata": {},
   "source": [
    "### GENE - hiPathia"
   ]
  },
  {
   "cell_type": "code",
   "execution_count": 16,
   "metadata": {},
   "outputs": [
    {
     "name": "stdout",
     "output_type": "stream",
     "text": [
      "(4082, 1)\n"
     ]
    },
    {
     "data": {
      "text/html": [
       "<div>\n",
       "<style scoped>\n",
       "    .dataframe tbody tr th:only-of-type {\n",
       "        vertical-align: middle;\n",
       "    }\n",
       "\n",
       "    .dataframe tbody tr th {\n",
       "        vertical-align: top;\n",
       "    }\n",
       "\n",
       "    .dataframe thead th {\n",
       "        text-align: right;\n",
       "    }\n",
       "</style>\n",
       "<table border=\"1\" class=\"dataframe\">\n",
       "  <thead>\n",
       "    <tr style=\"text-align: right;\">\n",
       "      <th></th>\n",
       "      <th>x</th>\n",
       "    </tr>\n",
       "  </thead>\n",
       "  <tbody>\n",
       "    <tr>\n",
       "      <th>0</th>\n",
       "      <td>19013</td>\n",
       "    </tr>\n",
       "    <tr>\n",
       "      <th>1</th>\n",
       "      <td>20181</td>\n",
       "    </tr>\n",
       "    <tr>\n",
       "      <th>2</th>\n",
       "      <td>20182</td>\n",
       "    </tr>\n",
       "    <tr>\n",
       "      <th>3</th>\n",
       "      <td>20183</td>\n",
       "    </tr>\n",
       "    <tr>\n",
       "      <th>4</th>\n",
       "      <td>19015</td>\n",
       "    </tr>\n",
       "  </tbody>\n",
       "</table>\n",
       "</div>"
      ],
      "text/plain": [
       "       x\n",
       "0  19013\n",
       "1  20181\n",
       "2  20182\n",
       "3  20183\n",
       "4  19015"
      ]
     },
     "execution_count": 16,
     "metadata": {},
     "output_type": "execute_result"
    }
   ],
   "source": [
    "df_h_gene_raw = pd.read_csv('../data/hipathia_genes_detail/hipathia_all_gene_list.csv')\n",
    "print(df_h_gene_raw.shape)\n",
    "df_h_gene_raw.head()\n",
    "# (4082, 1)"
   ]
  },
  {
   "cell_type": "code",
   "execution_count": 17,
   "metadata": {},
   "outputs": [
    {
     "name": "stdout",
     "output_type": "stream",
     "text": [
      "(3737, 1)\n"
     ]
    },
    {
     "data": {
      "text/html": [
       "<div>\n",
       "<style scoped>\n",
       "    .dataframe tbody tr th:only-of-type {\n",
       "        vertical-align: middle;\n",
       "    }\n",
       "\n",
       "    .dataframe tbody tr th {\n",
       "        vertical-align: top;\n",
       "    }\n",
       "\n",
       "    .dataframe thead th {\n",
       "        text-align: right;\n",
       "    }\n",
       "</style>\n",
       "<table border=\"1\" class=\"dataframe\">\n",
       "  <thead>\n",
       "    <tr style=\"text-align: right;\">\n",
       "      <th></th>\n",
       "      <th>x</th>\n",
       "    </tr>\n",
       "  </thead>\n",
       "  <tbody>\n",
       "    <tr>\n",
       "      <th>0</th>\n",
       "      <td>19013</td>\n",
       "    </tr>\n",
       "    <tr>\n",
       "      <th>1</th>\n",
       "      <td>20181</td>\n",
       "    </tr>\n",
       "    <tr>\n",
       "      <th>2</th>\n",
       "      <td>20182</td>\n",
       "    </tr>\n",
       "    <tr>\n",
       "      <th>3</th>\n",
       "      <td>20183</td>\n",
       "    </tr>\n",
       "    <tr>\n",
       "      <th>4</th>\n",
       "      <td>15360</td>\n",
       "    </tr>\n",
       "  </tbody>\n",
       "</table>\n",
       "</div>"
      ],
      "text/plain": [
       "       x\n",
       "0  19013\n",
       "1  20181\n",
       "2  20182\n",
       "3  20183\n",
       "4  15360"
      ]
     },
     "execution_count": 17,
     "metadata": {},
     "output_type": "execute_result"
    }
   ],
   "source": [
    "df_h_gene = pd.read_csv('../data/pathways/hipathia_gene_list.csv')\n",
    "print(df_h_gene.shape)\n",
    "df_h_gene.head()\n",
    "# (3737, 1)"
   ]
  },
  {
   "cell_type": "markdown",
   "metadata": {},
   "source": [
    "### GENE - KEGG"
   ]
  },
  {
   "cell_type": "code",
   "execution_count": 21,
   "metadata": {},
   "outputs": [
    {
     "name": "stdout",
     "output_type": "stream",
     "text": [
      "(7893, 1)\n"
     ]
    },
    {
     "data": {
      "text/html": [
       "<div>\n",
       "<style scoped>\n",
       "    .dataframe tbody tr th:only-of-type {\n",
       "        vertical-align: middle;\n",
       "    }\n",
       "\n",
       "    .dataframe tbody tr th {\n",
       "        vertical-align: top;\n",
       "    }\n",
       "\n",
       "    .dataframe thead th {\n",
       "        text-align: right;\n",
       "    }\n",
       "</style>\n",
       "<table border=\"1\" class=\"dataframe\">\n",
       "  <thead>\n",
       "    <tr style=\"text-align: right;\">\n",
       "      <th></th>\n",
       "      <th>0</th>\n",
       "    </tr>\n",
       "  </thead>\n",
       "  <tbody>\n",
       "    <tr>\n",
       "      <th>0</th>\n",
       "      <td>22169</td>\n",
       "    </tr>\n",
       "    <tr>\n",
       "      <th>1</th>\n",
       "      <td>56619</td>\n",
       "    </tr>\n",
       "    <tr>\n",
       "      <th>2</th>\n",
       "      <td>15114</td>\n",
       "    </tr>\n",
       "    <tr>\n",
       "      <th>3</th>\n",
       "      <td>74778</td>\n",
       "    </tr>\n",
       "    <tr>\n",
       "      <th>4</th>\n",
       "      <td>16524</td>\n",
       "    </tr>\n",
       "  </tbody>\n",
       "</table>\n",
       "</div>"
      ],
      "text/plain": [
       "       0\n",
       "0  22169\n",
       "1  56619\n",
       "2  15114\n",
       "3  74778\n",
       "4  16524"
      ]
     },
     "execution_count": 21,
     "metadata": {},
     "output_type": "execute_result"
    }
   ],
   "source": [
    "df_kegg_gene = pd.read_csv('../data/pathways/kegg_gene_list.csv')\n",
    "print(df_kegg_gene.shape)\n",
    "df_kegg_gene.head()\n",
    "# (7893, 1)"
   ]
  },
  {
   "cell_type": "code",
   "execution_count": null,
   "metadata": {},
   "outputs": [],
   "source": []
  }
 ],
 "metadata": {
  "kernelspec": {
   "display_name": "Python 3",
   "language": "python",
   "name": "python3"
  },
  "language_info": {
   "codemirror_mode": {
    "name": "ipython",
    "version": 3
   },
   "file_extension": ".py",
   "mimetype": "text/x-python",
   "name": "python",
   "nbconvert_exporter": "python",
   "pygments_lexer": "ipython3",
   "version": "3.8.4"
  }
 },
 "nbformat": 4,
 "nbformat_minor": 4
}