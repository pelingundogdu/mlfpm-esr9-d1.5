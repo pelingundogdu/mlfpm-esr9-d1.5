{
 "cells": [
  {
   "cell_type": "code",
   "execution_count": 1,
   "metadata": {},
   "outputs": [
    {
     "data": {
      "text/html": [
       "<span style=white-space:pre-wrap>' \\nDetails about this code   ;   - exporting all genes and pathways information from hipathia \\n                                and stores genes (txt format) and pathways (graphml format) in specified location\\n                              - exporting the conversion table which is between entrez and gene symbol\\nExported folder location ;  \\n  1.  ../data/01_R_o_pathways &gt; stores all pathways (graphml format)\\n  2.  ../data/01_R_o_genes    &gt; stores genes list (txt format) and conversion table (between entrez and gene saymbol)\\n'</span>"
      ],
      "text/latex": [
       "' \\textbackslash{}nDetails about this code   ;   - exporting all genes and pathways information from hipathia \\textbackslash{}n                                and stores genes (txt format) and pathways (graphml format) in specified location\\textbackslash{}n                              - exporting the conversion table which is between entrez and gene symbol\\textbackslash{}nExported folder location ;  \\textbackslash{}n  1.  ../data/01\\_R\\_o\\_pathways > stores all pathways (graphml format)\\textbackslash{}n  2.  ../data/01\\_R\\_o\\_genes    > stores genes list (txt format) and conversion table (between entrez and gene saymbol)\\textbackslash{}n'"
      ],
      "text/markdown": [
       "<span style=white-space:pre-wrap>' \\nDetails about this code   ;   - exporting all genes and pathways information from hipathia \\n                                and stores genes (txt format) and pathways (graphml format) in specified location\\n                              - exporting the conversion table which is between entrez and gene symbol\\nExported folder location ;  \\n  1.  ../data/01_R_o_pathways &gt; stores all pathways (graphml format)\\n  2.  ../data/01_R_o_genes    &gt; stores genes list (txt format) and conversion table (between entrez and gene saymbol)\\n'</span>"
      ],
      "text/plain": [
       "[1] \" \\nDetails about this code   ;   - exporting all genes and pathways information from hipathia \\n                                and stores genes (txt format) and pathways (graphml format) in specified location\\n                              - exporting the conversion table which is between entrez and gene symbol\\nExported folder location ;  \\n  1.  ../data/01_R_o_pathways > stores all pathways (graphml format)\\n  2.  ../data/01_R_o_genes    > stores genes list (txt format) and conversion table (between entrez and gene saymbol)\\n\""
      ]
     },
     "metadata": {},
     "output_type": "display_data"
    }
   ],
   "source": [
    "\" \n",
    "Details about this code   ;   - exporting all genes and pathways information from hipathia \n",
    "                                and stores genes (txt format) and pathways (graphml format) in specified location\n",
    "                              - exporting the conversion table which is between entrez and gene symbol\n",
    "Exported folder location ;  \n",
    "  1.  ../data/01_R_o_pathways > stores all pathways (graphml format)\n",
    "  2.  ../data/01_R_o_genes    > stores genes list (txt format) and conversion table (between entrez and gene saymbol)\n",
    "\""
   ]
  },
  {
   "cell_type": "code",
   "execution_count": 1,
   "metadata": {
    "collapsed": true,
    "jupyter": {
     "outputs_hidden": true
    }
   },
   "outputs": [
    {
     "name": "stderr",
     "output_type": "stream",
     "text": [
      "Loading required package: igraph\n",
      "\n",
      "Attaching package: ‘igraph’\n",
      "\n",
      "The following objects are masked from ‘package:stats’:\n",
      "\n",
      "    decompose, spectrum\n",
      "\n",
      "The following object is masked from ‘package:base’:\n",
      "\n",
      "    union\n",
      "\n",
      "Loading required package: AnnotationHub\n",
      "Loading required package: BiocGenerics\n",
      "Loading required package: parallel\n",
      "\n",
      "Attaching package: ‘BiocGenerics’\n",
      "\n",
      "The following objects are masked from ‘package:parallel’:\n",
      "\n",
      "    clusterApply, clusterApplyLB, clusterCall, clusterEvalQ,\n",
      "    clusterExport, clusterMap, parApply, parCapply, parLapply,\n",
      "    parLapplyLB, parRapply, parSapply, parSapplyLB\n",
      "\n",
      "The following objects are masked from ‘package:igraph’:\n",
      "\n",
      "    normalize, path, union\n",
      "\n",
      "The following objects are masked from ‘package:stats’:\n",
      "\n",
      "    IQR, mad, sd, var, xtabs\n",
      "\n",
      "The following objects are masked from ‘package:base’:\n",
      "\n",
      "    anyDuplicated, append, as.data.frame, basename, cbind, colnames,\n",
      "    dirname, do.call, duplicated, eval, evalq, Filter, Find, get, grep,\n",
      "    grepl, intersect, is.unsorted, lapply, Map, mapply, match, mget,\n",
      "    order, paste, pmax, pmax.int, pmin, pmin.int, Position, rank,\n",
      "    rbind, Reduce, rownames, sapply, setdiff, sort, table, tapply,\n",
      "    union, unique, unsplit, which, which.max, which.min\n",
      "\n",
      "Loading required package: BiocFileCache\n",
      "Loading required package: dbplyr\n",
      "Loading required package: MultiAssayExperiment\n",
      "Loading required package: SummarizedExperiment\n",
      "Loading required package: GenomicRanges\n",
      "Loading required package: stats4\n",
      "Loading required package: S4Vectors\n",
      "\n",
      "Attaching package: ‘S4Vectors’\n",
      "\n",
      "The following object is masked from ‘package:base’:\n",
      "\n",
      "    expand.grid\n",
      "\n",
      "Loading required package: IRanges\n",
      "Loading required package: GenomeInfoDb\n",
      "Loading required package: Biobase\n",
      "Welcome to Bioconductor\n",
      "\n",
      "    Vignettes contain introductory material; view with\n",
      "    'browseVignettes()'. To cite Bioconductor, see\n",
      "    'citation(\"Biobase\")', and for packages 'citation(\"pkgname\")'.\n",
      "\n",
      "\n",
      "Attaching package: ‘Biobase’\n",
      "\n",
      "The following object is masked from ‘package:AnnotationHub’:\n",
      "\n",
      "    cache\n",
      "\n",
      "Loading required package: DelayedArray\n",
      "Loading required package: matrixStats\n",
      "\n",
      "Attaching package: ‘matrixStats’\n",
      "\n",
      "The following objects are masked from ‘package:Biobase’:\n",
      "\n",
      "    anyMissing, rowMedians\n",
      "\n",
      "Loading required package: BiocParallel\n",
      "\n",
      "Attaching package: ‘DelayedArray’\n",
      "\n",
      "The following objects are masked from ‘package:matrixStats’:\n",
      "\n",
      "    colMaxs, colMins, colRanges, rowMaxs, rowMins, rowRanges\n",
      "\n",
      "The following object is masked from ‘package:igraph’:\n",
      "\n",
      "    simplify\n",
      "\n",
      "The following objects are masked from ‘package:base’:\n",
      "\n",
      "    aperm, apply, rowsum\n",
      "\n"
     ]
    }
   ],
   "source": [
    "library('hipathia') # hipathia package\n",
    "# library('igraph') # converting graph to graphml format\n",
    "# library('org.Mm.eg.db') #mmu, converting entrez to gene symbol\n",
    "# library('AnnotationDbi')"
   ]
  },
  {
   "cell_type": "code",
   "execution_count": 2,
   "metadata": {},
   "outputs": [
    {
     "name": "stderr",
     "output_type": "stream",
     "text": [
      "Using temporary cache /tmp/RtmpPnbKWN/BiocFileCache\n",
      "snapshotDate(): 2019-10-29\n",
      "Using temporary cache /tmp/RtmpPnbKWN/BiocFileCache\n",
      "Using temporary cache /tmp/RtmpPnbKWN/BiocFileCache\n",
      "Loaded 142 pathways\n"
     ]
    }
   ],
   "source": [
    "folder_output_pathways = paste0('../data/hipathia_pathways/')\n",
    "folder_output_pathway_genes = paste0('../data/hipathia_genes_detail/')\n",
    "folder_output_list = paste0('../data/pathways/')\n",
    "\n",
    "# dir.create(folder_output_pathways, showWarnings = FALSE)\n",
    "# dir.create(folder_output_pathway_genes, showWarnings = FALSE)\n",
    "\n",
    "pathways <- load_pathways(species = 'mmu')\n",
    "# pathways_list <- get_pathways_list(pathways)\n",
    "# get_path_names(pathways)"
   ]
  },
  {
   "cell_type": "code",
   "execution_count": 4,
   "metadata": {},
   "outputs": [
    {
     "name": "stdout",
     "output_type": "stream",
     "text": [
      "[1] \"Pathway number    , 92\"\n",
      "[1] \"All sub-pathways  , 6789\"\n",
      "[1] \"Final sub-pathways, 4528\"\n"
     ]
    }
   ],
   "source": [
    "df_h_final <- read.table('../data/pathways/hipathia_pathways_final.csv', sep=',', header=TRUE)\n",
    "\n",
    "df_pathways = data.frame(pathways$all.labelids)\n",
    "print(paste0('Pathway number    , ', nrow(df_h_final)))\n",
    "print(paste0('All sub-pathways  , ', nrow(df_pathways)))\n",
    "df_pathways = merge(df_h_final, df_pathways)\n",
    "print(paste0('Final sub-pathways, ', nrow(df_pathways)))\n",
    "list_path_id = levels(df_pathways$path.id)\n",
    "# print(list_path_id[1])\n",
    "# list_path_id"
   ]
  },
  {
   "cell_type": "code",
   "execution_count": 19,
   "metadata": {},
   "outputs": [
    {
     "name": "stdout",
     "output_type": "stream",
     "text": [
      "[1] \"THE GENES LIST EXPORTED!!! - ../data/hipathia_genes_detail/hipathia_all_gene_list.csv and../data/pathways/hipathia_gene_list.csv\"\n"
     ]
    }
   ],
   "source": [
    "# EXPORTING GENE LISTS\n",
    "\n",
    "# Creating dataframe which store all genes + info rows\n",
    "df_gene <- data.frame(pathways$all.genes)\n",
    "colnames(df_gene) = c('entrez')\n",
    "# head(df_gene)\n",
    "l_gene_final<-c()\n",
    "#GENES\n",
    "for (all_pathways_ in c(1:length(list_path_id)) ){\n",
    "    df_merge = df_gene\n",
    "    l_main<-c()\n",
    "#     print(list_path_id[all_pathways_])\n",
    "    length_subpathways = length(pathways$pathigraphs[[list_path_id[all_pathways_]]]$effector.subgraphs)\n",
    "    for (sub_pathways_ in c(1:length_subpathways)) {\n",
    "        l_sub<-c()\n",
    "#         print(sub_pathways_)\n",
    "        genes_circuits = V(pathways$pathigraphs[[list_path_id[all_pathways_]]]$effector.subgraphs[[sub_pathways_]])$genesList\n",
    "        sub_path_name = names(pathways$pathigraphs[[list_path_id[all_pathways_]]]$effector.subgraphs[sub_pathways_][1])\n",
    "#         print(sub_path_name)\n",
    "        for (sub_circuits in c(1:length(genes_circuits))){\n",
    "            for (genes_ in c(1:length(genes_circuits[sub_circuits][1][[1]]))){\n",
    "                gene_value = genes_circuits[sub_circuits][1][[1]][genes_]\n",
    "                if (!is.na(gene_value) && gene_value != '/' && (gene_value == 'NA') == FALSE){\n",
    "                    l_sub <-append(l_sub,gene_value)\n",
    "                }\n",
    "            }\n",
    "            l_sub = unique(l_sub)\n",
    "        }\n",
    "        if (length(l_sub) != 0) {\n",
    "#             Combining all genes which are using in specified pathway\n",
    "            l_main<-append(l_main, l_sub)\n",
    "            df_temp <- data.frame(l_sub, 1)\n",
    "            names(df_temp) = c('entrez', sub_path_name)\n",
    "        }\n",
    "#         Inner join\n",
    "        df_merge = merge(df_temp,df_merge, by='entrez', all=T)\n",
    "    }\n",
    "    l_main = unique(l_main)\n",
    "#     Assigning all NA's as 0\n",
    "#     df_merge[s.na(df_merge)] <- 0\n",
    "    df_merge[!is.na(df_merge)] \n",
    "#     x[!is.na(x)]\n",
    "    indices_genes <- as.vector(which(df_merge$entrez %in% l_main, arr.ind = TRUE))\n",
    "#     1L * df_merge$entrez %in% c('info', l_main)\n",
    "    df_path_genes <- (df_merge[c(indices_genes), ])\n",
    "    rownames(df_path_genes) <- 1:nrow(df_path_genes)\n",
    "    l_gene_final = append(l_gene_final, l_main)\n",
    "#     print(length(l_gene_final))\n",
    "#     Exporting txt file belgons to each pathways (142 txt file for mmu)\n",
    "    write.table(df_path_genes, paste0(folder_output_pathway_genes,list_path_id[all_pathways_],'_gene_list.txt'), sep=',', row.names=FALSE)\n",
    "}\n",
    "    \n",
    "write.table(df_gene$entrez[(df_gene$entrez) != 'NA'], paste0(folder_output_pathway_genes,'hipathia_all_gene_list.csv'),sep=',',row.names = FALSE)\n",
    "write.table(unique(l_gene_final), paste0(folder_output_list,'hipathia_gene_list.csv'),sep=',', row.names = FALSE)\n",
    "print(paste0('THE GENES LIST EXPORTED!!! - ', folder_output_pathway_genes,'hipathia_all_gene_list.csv and', folder_output_list,'hipathia_gene_list.csv'))"
   ]
  },
  {
   "cell_type": "raw",
   "metadata": {},
   "source": [
    "# CONVERTING ENTREZ IDs to GENE SYMBOL\n",
    "\n",
    "df_all_entrez_symbol <- as.data.frame(org.Mm.egSYMBOL[mappedkeys(org.Mm.egSYMBOL)])\n",
    "# dim(df_all_entrez_symbol)\n",
    "df_entrez_symbol <- data.frame(entrez = pathways$all.genes)\n",
    "# print(dim(df_entrez_symbol))\n",
    "df_entrez_symbol <- df_all_entrez_symbol[(which(df_all_entrez_symbol$gene_id %in% pathways$all.genes, arr.ind = TRUE)), ]\n",
    "write.table(df_entrez_symbol, paste0(folder_output_genes,'all_entrez_and_symbol.txt'),sep=',',row.names = FALSE)\n",
    "# print(NROW(df_entrez_symbol))\n",
    "print('THE ENTREZ and SYMBOL TABLE EXPORTED!!!')"
   ]
  },
  {
   "cell_type": "code",
   "execution_count": 20,
   "metadata": {},
   "outputs": [
    {
     "name": "stdout",
     "output_type": "stream",
     "text": [
      "[1] \"PATHWAYS EXPORTED!!\"\n"
     ]
    }
   ],
   "source": [
    "# EXPORTING PATHWAYS\n",
    "\n",
    "for (all_pathways_ in c(1:length(list_path_id)) ){\n",
    "#     print(list_path_id[all_pathways_])\n",
    "    dir.create(paste0(folder_output_pathways,list_path_id[all_pathways_]), showWarnings = FALSE )\n",
    "    write_graph(pathways$pathigraphs[[list_path_id[all_pathways_]]]$graph, paste0(folder_output_pathways,list_path_id[all_pathways_],\"/\", list_path_id[all_pathways_],\"_00_main.graphml\"), format = c(\"graphml\"))\n",
    "    length_subpathways = length(pathways$pathigraphs[[list_path_id[all_pathways_]]]$effector.subgraphs)\n",
    "    for (sub_pathways_ in c(1:length_subpathways)) {\n",
    "        sub_path_name = names(pathways$pathigraphs[[list_path_id[all_pathways_]]]$effector.subgraphs[sub_pathways_][1])\n",
    "#         print(path_name)\n",
    "        write_graph(pathways$pathigraphs[[list_path_id[all_pathways_]]]$effector.subgraphs[[sub_pathways_]], paste0(folder_output_pathways,list_path_id[all_pathways_],\"/\", sub_path_name,\".graphml\"), format = c(\"graphml\"))\n",
    "    }\n",
    "}\n",
    "print(\"PATHWAYS EXPORTED!!\")"
   ]
  },
  {
   "cell_type": "raw",
   "metadata": {},
   "source": [
    "df_gene[df_gene$entrez == 19013, ]"
   ]
  }
 ],
 "metadata": {
  "kernelspec": {
   "display_name": "R",
   "language": "R",
   "name": "ir"
  },
  "language_info": {
   "codemirror_mode": "r",
   "file_extension": ".r",
   "mimetype": "text/x-r-source",
   "name": "R",
   "pygments_lexer": "r",
   "version": "3.6.1"
  }
 },
 "nbformat": 4,
 "nbformat_minor": 4
}
